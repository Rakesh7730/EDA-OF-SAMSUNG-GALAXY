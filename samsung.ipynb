{
 "cells": [
  {
   "cell_type": "markdown",
   "id": "0efa43e6-1948-4fe5-a5a6-920a0b4b22be",
   "metadata": {},
   "source": [
    "\n",
    "## <center><h1 style=\"color:white;\">EDA-OF-SAMSUNG-GALAXY</h1></center>\n"
   ]
  },
  {
   "cell_type": "code",
   "execution_count": 15,
   "id": "a512fe77-bac9-46a6-990f-251d831dba68",
   "metadata": {},
   "outputs": [],
   "source": [
    "import pandas as pd\n",
    "import numpy as np\n",
    "import matplotlib.pyplot as plt\n",
    "import seaborn as sns"
   ]
  },
  {
   "cell_type": "code",
   "execution_count": 29,
   "id": "a4474965-3a79-465f-be8a-b6ab1d438145",
   "metadata": {},
   "outputs": [],
   "source": [
    "import html5lib"
   ]
  },
  {
   "cell_type": "markdown",
   "id": "6b6553d4-10ab-4b8d-8751-93bd64579c80",
   "metadata": {},
   "source": [
    "## <CENTER> LOGO OF SAMSUNG</CENTER>"
   ]
  },
  {
   "cell_type": "code",
   "execution_count": 30,
   "id": "4ce74dba-fb80-46b5-a69c-c3bbbae1ef3a",
   "metadata": {},
   "outputs": [
    {
     "data": {
      "image/png": "[encoded data removed]",
      "text/plain": [
       "<Figure size 640x480 with 1 Axes>"
      ]
     },
     "metadata": {},
     "output_type": "display_data"
    }
   ],
   "source": [
    "import matplotlib.pyplot as plt\n",
    "import matplotlib.image as mpimg\n",
    "img = mpimg.imread('fw44YPe89yxA.jpg')\n",
    "plt.imshow(img)\n",
    "plt.axis('off')  \n",
    "plt.show()"
   ]
  },
  {
   "cell_type": "code",
   "execution_count": 31,
   "id": "58c2e512-e55b-4e84-a9c6-363436b56219",
   "metadata": {},
   "outputs": [
    {
     "data": {
      "text/html": [
       "<div>\n",
       "<style scoped>\n",
       "    .dataframe tbody tr th:only-of-type {\n",
       "        vertical-align: middle;\n",
       "    }\n",
       "\n",
       "    .dataframe tbody tr th {\n",
       "        vertical-align: top;\n",
       "    }\n",
       "\n",
       "    .dataframe thead th {\n",
       "        text-align: right;\n",
       "    }\n",
       "</style>\n",
       "<table border=\"1\" class=\"dataframe\">\n",
       "  <thead>\n",
       "    <tr style=\"text-align: right;\">\n",
       "      <th></th>\n",
       "      <th>Mobile_Phone</th>\n",
       "      <th>Model</th>\n",
       "      <th>RAM_GB</th>\n",
       "      <th>ROM_GB</th>\n",
       "      <th>Review</th>\n",
       "      <th>Latest_Price_Taka</th>\n",
       "      <th>Payment_Method</th>\n",
       "      <th>Discount</th>\n",
       "      <th>Selling_Price</th>\n",
       "    </tr>\n",
       "  </thead>\n",
       "  <tbody>\n",
       "    <tr>\n",
       "      <th>0</th>\n",
       "      <td>Samsumg Galaxy</td>\n",
       "      <td>Note 20 ultra</td>\n",
       "      <td>8</td>\n",
       "      <td>256</td>\n",
       "      <td>good</td>\n",
       "      <td>134999.0</td>\n",
       "      <td>cash</td>\n",
       "      <td>3000</td>\n",
       "      <td>131999</td>\n",
       "    </tr>\n",
       "    <tr>\n",
       "      <th>1</th>\n",
       "      <td>Samsumg Galaxy</td>\n",
       "      <td>S20 ultra</td>\n",
       "      <td>12</td>\n",
       "      <td>128</td>\n",
       "      <td>good</td>\n",
       "      <td>129900.0</td>\n",
       "      <td>cash</td>\n",
       "      <td>3000</td>\n",
       "      <td>126900</td>\n",
       "    </tr>\n",
       "    <tr>\n",
       "      <th>2</th>\n",
       "      <td>Samsumg Galaxy</td>\n",
       "      <td>S20+</td>\n",
       "      <td>8</td>\n",
       "      <td>128</td>\n",
       "      <td>good</td>\n",
       "      <td>84999.0</td>\n",
       "      <td>cash</td>\n",
       "      <td>3000</td>\n",
       "      <td>81999</td>\n",
       "    </tr>\n",
       "    <tr>\n",
       "      <th>3</th>\n",
       "      <td>Samsumg Galaxy</td>\n",
       "      <td>Lite</td>\n",
       "      <td>6</td>\n",
       "      <td>128</td>\n",
       "      <td>good</td>\n",
       "      <td>55999.0</td>\n",
       "      <td>cash</td>\n",
       "      <td>2500</td>\n",
       "      <td>53499</td>\n",
       "    </tr>\n",
       "    <tr>\n",
       "      <th>4</th>\n",
       "      <td>Samsumg Galaxy</td>\n",
       "      <td>A51</td>\n",
       "      <td>6</td>\n",
       "      <td>128</td>\n",
       "      <td>good</td>\n",
       "      <td>45990.0</td>\n",
       "      <td>cash</td>\n",
       "      <td>2500</td>\n",
       "      <td>43490</td>\n",
       "    </tr>\n",
       "  </tbody>\n",
       "</table>\n",
       "</div>"
      ],
      "text/plain": [
       "     Mobile_Phone          Model  RAM_GB  ROM_GB Review  Latest_Price_Taka  \\\n",
       "0  Samsumg Galaxy  Note 20 ultra       8     256   good           134999.0   \n",
       "1  Samsumg Galaxy      S20 ultra      12     128   good           129900.0   \n",
       "2  Samsumg Galaxy           S20+       8     128   good            84999.0   \n",
       "3  Samsumg Galaxy           Lite       6     128   good            55999.0   \n",
       "4  Samsumg Galaxy            A51       6     128   good            45990.0   \n",
       "\n",
       "  Payment_Method  Discount  Selling_Price  \n",
       "0           cash      3000         131999  \n",
       "1           cash      3000         126900  \n",
       "2           cash      3000          81999  \n",
       "3           cash      2500          53499  \n",
       "4           cash      2500          43490  "
      ]
     },
     "execution_count": 31,
     "metadata": {},
     "output_type": "execute_result"
    }
   ],
   "source": [
    "samsung_df = pd.read_csv('Samsung_mobile.csv')\n",
    "samsung_df.head()"
   ]
  },
  {
   "cell_type": "code",
   "execution_count": 32,
   "id": "c430b4bf-01ca-4401-9678-dfae1e61ba5a",
   "metadata": {},
   "outputs": [
    {
     "data": {
      "text/html": [
       "<div>\n",
       "<style scoped>\n",
       "    .dataframe tbody tr th:only-of-type {\n",
       "        vertical-align: middle;\n",
       "    }\n",
       "\n",
       "    .dataframe tbody tr th {\n",
       "        vertical-align: top;\n",
       "    }\n",
       "\n",
       "    .dataframe thead th {\n",
       "        text-align: right;\n",
       "    }\n",
       "</style>\n",
       "<table border=\"1\" class=\"dataframe\">\n",
       "  <thead>\n",
       "    <tr style=\"text-align: right;\">\n",
       "      <th></th>\n",
       "      <th>Mobile_Phone</th>\n",
       "      <th>Model</th>\n",
       "      <th>RAM_GB</th>\n",
       "      <th>ROM_GB</th>\n",
       "      <th>Review</th>\n",
       "      <th>Latest_Price_Taka</th>\n",
       "      <th>Payment_Method</th>\n",
       "      <th>Discount</th>\n",
       "      <th>Selling_Price</th>\n",
       "    </tr>\n",
       "  </thead>\n",
       "  <tbody>\n",
       "    <tr>\n",
       "      <th>16</th>\n",
       "      <td>Samsumg Galaxy</td>\n",
       "      <td>A10s</td>\n",
       "      <td>2</td>\n",
       "      <td>32</td>\n",
       "      <td>normal</td>\n",
       "      <td>12999.0</td>\n",
       "      <td>rocket</td>\n",
       "      <td>1500</td>\n",
       "      <td>11499</td>\n",
       "    </tr>\n",
       "    <tr>\n",
       "      <th>17</th>\n",
       "      <td>Samsumg Galaxy</td>\n",
       "      <td>A10s</td>\n",
       "      <td>2</td>\n",
       "      <td>32</td>\n",
       "      <td>normal</td>\n",
       "      <td>12999.0</td>\n",
       "      <td>rocket</td>\n",
       "      <td>1500</td>\n",
       "      <td>11499</td>\n",
       "    </tr>\n",
       "    <tr>\n",
       "      <th>18</th>\n",
       "      <td>Samsumg Galaxy</td>\n",
       "      <td>A01</td>\n",
       "      <td>2</td>\n",
       "      <td>16</td>\n",
       "      <td>usual</td>\n",
       "      <td>9999.0</td>\n",
       "      <td>rocket</td>\n",
       "      <td>1000</td>\n",
       "      <td>8999</td>\n",
       "    </tr>\n",
       "    <tr>\n",
       "      <th>19</th>\n",
       "      <td>Samsumg Metro</td>\n",
       "      <td>metro 350</td>\n",
       "      <td>0</td>\n",
       "      <td>0</td>\n",
       "      <td>usual</td>\n",
       "      <td>3550.0</td>\n",
       "      <td>rocket</td>\n",
       "      <td>500</td>\n",
       "      <td>3050</td>\n",
       "    </tr>\n",
       "    <tr>\n",
       "      <th>20</th>\n",
       "      <td>Samsumg Metro</td>\n",
       "      <td>metro 313</td>\n",
       "      <td>0</td>\n",
       "      <td>0</td>\n",
       "      <td>usual</td>\n",
       "      <td>2750.0</td>\n",
       "      <td>rocket</td>\n",
       "      <td>250</td>\n",
       "      <td>2500</td>\n",
       "    </tr>\n",
       "  </tbody>\n",
       "</table>\n",
       "</div>"
      ],
      "text/plain": [
       "      Mobile_Phone      Model  RAM_GB  ROM_GB  Review  Latest_Price_Taka  \\\n",
       "16  Samsumg Galaxy       A10s       2      32  normal            12999.0   \n",
       "17  Samsumg Galaxy       A10s       2      32  normal            12999.0   \n",
       "18  Samsumg Galaxy        A01       2      16   usual             9999.0   \n",
       "19   Samsumg Metro  metro 350       0       0   usual             3550.0   \n",
       "20   Samsumg Metro  metro 313       0       0   usual             2750.0   \n",
       "\n",
       "   Payment_Method  Discount  Selling_Price  \n",
       "16         rocket      1500          11499  \n",
       "17         rocket      1500          11499  \n",
       "18         rocket      1000           8999  \n",
       "19         rocket       500           3050  \n",
       "20         rocket       250           2500  "
      ]
     },
     "execution_count": 32,
     "metadata": {},
     "output_type": "execute_result"
    }
   ],
   "source": [
    "samsung_df = pd.read_csv('Samsung_mobile.csv')\n",
    "samsung_df.tail()"
   ]
  },
  {
   "cell_type": "code",
   "execution_count": 33,
   "id": "a22f6541-3a4a-4f4a-9574-b7274aa43b5f",
   "metadata": {},
   "outputs": [
    {
     "name": "stdout",
     "output_type": "stream",
     "text": [
      "<class 'pandas.core.frame.DataFrame'>\n",
      "RangeIndex: 21 entries, 0 to 20\n",
      "Data columns (total 9 columns):\n",
      " #   Column             Non-Null Count  Dtype  \n",
      "---  ------             --------------  -----  \n",
      " 0   Mobile_Phone       21 non-null     object \n",
      " 1   Model              21 non-null     object \n",
      " 2   RAM_GB             21 non-null     int64  \n",
      " 3   ROM_GB             21 non-null     int64  \n",
      " 4   Review             21 non-null     object \n",
      " 5   Latest_Price_Taka  21 non-null     float64\n",
      " 6   Payment_Method     21 non-null     object \n",
      " 7   Discount           21 non-null     int64  \n",
      " 8   Selling_Price      21 non-null     int64  \n",
      "dtypes: float64(1), int64(4), object(4)\n",
      "memory usage: 1.6+ KB\n"
     ]
    }
   ],
   "source": [
    "samsung_df.info()"
   ]
  },
  {
   "cell_type": "code",
   "execution_count": 34,
   "id": "c4015bfa-7abb-4eac-bbe5-495f7022ab16",
   "metadata": {},
   "outputs": [
    {
     "data": {
      "text/plain": [
       "(21, 9)"
      ]
     },
     "execution_count": 34,
     "metadata": {},
     "output_type": "execute_result"
    }
   ],
   "source": [
    "samsung_df.shape"
   ]
  },
  {
   "cell_type": "code",
   "execution_count": 35,
   "id": "911bdff9-e196-4a61-bd15-d7666e453f53",
   "metadata": {},
   "outputs": [
    {
     "data": {
      "text/plain": [
       "Index(['Mobile_Phone', 'Model', 'RAM_GB', 'ROM_GB', 'Review',\n",
       "       'Latest_Price_Taka', 'Payment_Method', 'Discount', 'Selling_Price'],\n",
       "      dtype='object')"
      ]
     },
     "execution_count": 35,
     "metadata": {},
     "output_type": "execute_result"
    }
   ],
   "source": [
    "samsung_df.columns"
   ]
  },
  {
   "cell_type": "code",
   "execution_count": 36,
   "id": "36af3ce2-c610-4ffa-8da8-8813cf78a8dc",
   "metadata": {},
   "outputs": [
    {
     "data": {
      "text/html": [
       "<div>\n",
       "<style scoped>\n",
       "    .dataframe tbody tr th:only-of-type {\n",
       "        vertical-align: middle;\n",
       "    }\n",
       "\n",
       "    .dataframe tbody tr th {\n",
       "        vertical-align: top;\n",
       "    }\n",
       "\n",
       "    .dataframe thead th {\n",
       "        text-align: right;\n",
       "    }\n",
       "</style>\n",
       "<table border=\"1\" class=\"dataframe\">\n",
       "  <thead>\n",
       "    <tr style=\"text-align: right;\">\n",
       "      <th></th>\n",
       "      <th>Mobile_Phone</th>\n",
       "      <th>Model</th>\n",
       "      <th>Review</th>\n",
       "      <th>Payment_Method</th>\n",
       "    </tr>\n",
       "  </thead>\n",
       "  <tbody>\n",
       "    <tr>\n",
       "      <th>count</th>\n",
       "      <td>21</td>\n",
       "      <td>21</td>\n",
       "      <td>21</td>\n",
       "      <td>21</td>\n",
       "    </tr>\n",
       "    <tr>\n",
       "      <th>unique</th>\n",
       "      <td>2</td>\n",
       "      <td>15</td>\n",
       "      <td>3</td>\n",
       "      <td>3</td>\n",
       "    </tr>\n",
       "    <tr>\n",
       "      <th>top</th>\n",
       "      <td>Samsumg Galaxy</td>\n",
       "      <td>A51</td>\n",
       "      <td>good</td>\n",
       "      <td>bkash</td>\n",
       "    </tr>\n",
       "    <tr>\n",
       "      <th>freq</th>\n",
       "      <td>19</td>\n",
       "      <td>2</td>\n",
       "      <td>12</td>\n",
       "      <td>8</td>\n",
       "    </tr>\n",
       "  </tbody>\n",
       "</table>\n",
       "</div>"
      ],
      "text/plain": [
       "          Mobile_Phone Model Review Payment_Method\n",
       "count               21    21     21             21\n",
       "unique               2    15      3              3\n",
       "top     Samsumg Galaxy   A51   good          bkash\n",
       "freq                19     2     12              8"
      ]
     },
     "execution_count": 36,
     "metadata": {},
     "output_type": "execute_result"
    }
   ],
   "source": [
    "samsung_df.describe(include = 'object')"
   ]
  },
  {
   "cell_type": "code",
   "execution_count": 37,
   "id": "aeffe955-8086-43c2-aa35-97fdef5a47bc",
   "metadata": {},
   "outputs": [
    {
     "data": {
      "text/html": [
       "<div>\n",
       "<style scoped>\n",
       "    .dataframe tbody tr th:only-of-type {\n",
       "        vertical-align: middle;\n",
       "    }\n",
       "\n",
       "    .dataframe tbody tr th {\n",
       "        vertical-align: top;\n",
       "    }\n",
       "\n",
       "    .dataframe thead th {\n",
       "        text-align: right;\n",
       "    }\n",
       "</style>\n",
       "<table border=\"1\" class=\"dataframe\">\n",
       "  <thead>\n",
       "    <tr style=\"text-align: right;\">\n",
       "      <th></th>\n",
       "      <th>RAM_GB</th>\n",
       "      <th>ROM_GB</th>\n",
       "      <th>Latest_Price_Taka</th>\n",
       "      <th>Discount</th>\n",
       "      <th>Selling_Price</th>\n",
       "    </tr>\n",
       "  </thead>\n",
       "  <tbody>\n",
       "    <tr>\n",
       "      <th>count</th>\n",
       "      <td>21.000000</td>\n",
       "      <td>21.000000</td>\n",
       "      <td>21.000000</td>\n",
       "      <td>21.000000</td>\n",
       "      <td>21.000000</td>\n",
       "    </tr>\n",
       "    <tr>\n",
       "      <th>mean</th>\n",
       "      <td>5.142857</td>\n",
       "      <td>93.714286</td>\n",
       "      <td>37610.952381</td>\n",
       "      <td>1940.476190</td>\n",
       "      <td>35670.476190</td>\n",
       "    </tr>\n",
       "    <tr>\n",
       "      <th>std</th>\n",
       "      <td>2.920372</td>\n",
       "      <td>62.026722</td>\n",
       "      <td>36891.663754</td>\n",
       "      <td>766.097097</td>\n",
       "      <td>36284.165145</td>\n",
       "    </tr>\n",
       "    <tr>\n",
       "      <th>min</th>\n",
       "      <td>0.000000</td>\n",
       "      <td>0.000000</td>\n",
       "      <td>2750.000000</td>\n",
       "      <td>250.000000</td>\n",
       "      <td>2500.000000</td>\n",
       "    </tr>\n",
       "    <tr>\n",
       "      <th>25%</th>\n",
       "      <td>3.000000</td>\n",
       "      <td>32.000000</td>\n",
       "      <td>15999.000000</td>\n",
       "      <td>1500.000000</td>\n",
       "      <td>14499.000000</td>\n",
       "    </tr>\n",
       "    <tr>\n",
       "      <th>50%</th>\n",
       "      <td>6.000000</td>\n",
       "      <td>128.000000</td>\n",
       "      <td>27490.000000</td>\n",
       "      <td>2000.000000</td>\n",
       "      <td>25490.000000</td>\n",
       "    </tr>\n",
       "    <tr>\n",
       "      <th>75%</th>\n",
       "      <td>6.000000</td>\n",
       "      <td>128.000000</td>\n",
       "      <td>42999.000000</td>\n",
       "      <td>2500.000000</td>\n",
       "      <td>40499.000000</td>\n",
       "    </tr>\n",
       "    <tr>\n",
       "      <th>max</th>\n",
       "      <td>12.000000</td>\n",
       "      <td>256.000000</td>\n",
       "      <td>134999.000000</td>\n",
       "      <td>3000.000000</td>\n",
       "      <td>131999.000000</td>\n",
       "    </tr>\n",
       "  </tbody>\n",
       "</table>\n",
       "</div>"
      ],
      "text/plain": [
       "          RAM_GB      ROM_GB  Latest_Price_Taka     Discount  Selling_Price\n",
       "count  21.000000   21.000000          21.000000    21.000000      21.000000\n",
       "mean    5.142857   93.714286       37610.952381  1940.476190   35670.476190\n",
       "std     2.920372   62.026722       36891.663754   766.097097   36284.165145\n",
       "min     0.000000    0.000000        2750.000000   250.000000    2500.000000\n",
       "25%     3.000000   32.000000       15999.000000  1500.000000   14499.000000\n",
       "50%     6.000000  128.000000       27490.000000  2000.000000   25490.000000\n",
       "75%     6.000000  128.000000       42999.000000  2500.000000   40499.000000\n",
       "max    12.000000  256.000000      134999.000000  3000.000000  131999.000000"
      ]
     },
     "execution_count": 37,
     "metadata": {},
     "output_type": "execute_result"
    }
   ],
   "source": [
    "samsung_df.describe()"
   ]
  },
  {
   "cell_type": "code",
   "execution_count": 38,
   "id": "b7e83470-5828-44a4-956b-84fb57b11e0e",
   "metadata": {},
   "outputs": [
    {
     "data": {
      "text/plain": [
       "Mobile_Phone         0\n",
       "Model                0\n",
       "RAM_GB               0\n",
       "ROM_GB               0\n",
       "Review               0\n",
       "Latest_Price_Taka    0\n",
       "Payment_Method       0\n",
       "Discount             0\n",
       "Selling_Price        0\n",
       "dtype: int64"
      ]
     },
     "execution_count": 38,
     "metadata": {},
     "output_type": "execute_result"
    }
   ],
   "source": [
    "samsung_df.isnull().sum()"
   ]
  },
  {
   "cell_type": "code",
   "execution_count": null,
   "id": "8f4e41db-6ae3-4f36-8f20-3f37e2851be0",
   "metadata": {},
   "outputs": [],
   "source": []
  },
  {
   "cell_type": "markdown",
   "id": "b6cd60c2-24a3-488f-8355-7d02165d9fd3",
   "metadata": {},
   "source": [
    "## >>  Data visualization is the representation of data through use of common graphics, such as charts, plots, infographics and even animations."
   ]
  },
  {
   "cell_type": "markdown",
   "id": "b0248786-da53-4e31-bc39-4170be639d62",
   "metadata": {},
   "source": [
    "## _COUNTPLOT_"
   ]
  },
  {
   "cell_type": "markdown",
   "id": "73db6dd2-5a73-4460-89ea-601c4d08c92f",
   "metadata": {},
   "source": [
    "## >>A countplot is a statistical graph that uses bars to show the number of observations in each category of a categorical variable"
   ]
  },
  {
   "cell_type": "code",
   "execution_count": 16,
   "id": "da7310dc-9ab5-4f52-b217-31172146e00e",
   "metadata": {},
   "outputs": [
    {
     "data": {
      "text/plain": [
       "0     131999\n",
       "1     126900\n",
       "2      81999\n",
       "3      53499\n",
       "4      43490\n",
       "5      40499\n",
       "6      36490\n",
       "7      36490\n",
       "8      25999\n",
       "9      25490\n",
       "10     25490\n",
       "11     20000\n",
       "12     17990\n",
       "13     16200\n",
       "14     14499\n",
       "15     14499\n",
       "16     11499\n",
       "17     11499\n",
       "18      8999\n",
       "19      3050\n",
       "20      2500\n",
       "Name: Selling_Price, dtype: int64"
      ]
     },
     "execution_count": 16,
     "metadata": {},
     "output_type": "execute_result"
    }
   ],
   "source": [
    "samsung_df.Selling_Price"
   ]
  },
  {
   "cell_type": "code",
   "execution_count": 17,
   "id": "de58e236-07ea-4826-9a66-ab704f48fa58",
   "metadata": {},
   "outputs": [
    {
     "data": {
      "image/png": "[encoded data removed]",
      "text/plain": [
       "<Figure size 1300x600 with 1 Axes>"
      ]
     },
     "metadata": {},
     "output_type": "display_data"
    }
   ],
   "source": [
    "plt.figure(figsize=(13,6))\n",
    "\n",
    "sns.countplot(x='Selling_Price', data = samsung_df)\n",
    "plt.show()"
   ]
  },
  {
   "cell_type": "code",
   "execution_count": 18,
   "id": "a4d787c7-52e2-4d61-831d-b860528be6df",
   "metadata": {},
   "outputs": [
    {
     "data": {
      "text/plain": [
       "0       good\n",
       "1       good\n",
       "2       good\n",
       "3       good\n",
       "4       good\n",
       "5       good\n",
       "6       good\n",
       "7       good\n",
       "8       good\n",
       "9       good\n",
       "10      good\n",
       "11      good\n",
       "12    normal\n",
       "13    normal\n",
       "14    normal\n",
       "15    normal\n",
       "16    normal\n",
       "17    normal\n",
       "18     usual\n",
       "19     usual\n",
       "20     usual\n",
       "Name: Review, dtype: object"
      ]
     },
     "execution_count": 18,
     "metadata": {},
     "output_type": "execute_result"
    }
   ],
   "source": [
    "samsung_df.Review"
   ]
  },
  {
   "cell_type": "code",
   "execution_count": 19,
   "id": "a889d3f2-21bc-482d-a286-916edbe5519f",
   "metadata": {},
   "outputs": [
    {
     "data": {
      "image/png": "[encoded data removed]",
      "text/plain": [
       "<Figure size 400x500 with 1 Axes>"
      ]
     },
     "metadata": {},
     "output_type": "display_data"
    }
   ],
   "source": [
    "plt.figure(figsize=(4,5))\n",
    "\n",
    "sns.countplot(x='Review', data = samsung_df)\n",
    "plt.show()"
   ]
  },
  {
   "cell_type": "markdown",
   "id": "52421ab6-6321-4932-906a-1fe284de7de7",
   "metadata": {},
   "source": [
    "## >>SCATTERPLOT"
   ]
  },
  {
   "cell_type": "code",
   "execution_count": 20,
   "id": "55de47b4-240f-4e1b-8e10-0742e815515c",
   "metadata": {},
   "outputs": [
    {
     "data": {
      "image/png": "[encoded data removed]",
      "text/plain": [
       "<Figure size 500x400 with 1 Axes>"
      ]
     },
     "metadata": {},
     "output_type": "display_data"
    }
   ],
   "source": [
    "plt.figure(figsize=(5,4))\n",
    "\n",
    "sns.scatterplot(x='Selling_Price',y='Review',data = samsung_df)\n",
    "plt.show()"
   ]
  },
  {
   "cell_type": "markdown",
   "id": "a0ad1d76-2f13-4c94-8b91-5d6191dd78ac",
   "metadata": {},
   "source": [
    "## >>HISTPLOT"
   ]
  },
  {
   "cell_type": "code",
   "execution_count": 21,
   "id": "c5aa58ef-5f78-43a1-b369-b3a33850a6fb",
   "metadata": {},
   "outputs": [
    {
     "data": {
      "image/png": "[encoded data removed]",
      "text/plain": [
       "<Figure size 500x400 with 1 Axes>"
      ]
     },
     "metadata": {},
     "output_type": "display_data"
    }
   ],
   "source": [
    "plt.figure(figsize=(5,4))\n",
    "\n",
    "sns.histplot(x='Selling_Price',y='Review',data = samsung_df)\n",
    "plt.show()"
   ]
  },
  {
   "cell_type": "code",
   "execution_count": 22,
   "id": "a77e8402-99d5-4b05-9597-56163e06bf4d",
   "metadata": {},
   "outputs": [
    {
     "data": {
      "text/plain": [
       "0      8\n",
       "1     12\n",
       "2      8\n",
       "3      6\n",
       "4      6\n",
       "5      8\n",
       "6      6\n",
       "7      6\n",
       "8      6\n",
       "9      6\n",
       "10     6\n",
       "11     6\n",
       "12     6\n",
       "13     6\n",
       "14     3\n",
       "15     3\n",
       "16     2\n",
       "17     2\n",
       "18     2\n",
       "19     0\n",
       "20     0\n",
       "Name: RAM_GB, dtype: int64"
      ]
     },
     "execution_count": 22,
     "metadata": {},
     "output_type": "execute_result"
    }
   ],
   "source": [
    "samsung_df.RAM_GB"
   ]
  },
  {
   "cell_type": "code",
   "execution_count": 23,
   "id": "83cf12dc-4614-4edc-bc87-62d04adde65a",
   "metadata": {},
   "outputs": [
    {
     "data": {
      "text/plain": [
       "0     256\n",
       "1     128\n",
       "2     128\n",
       "3     128\n",
       "4     128\n",
       "5     128\n",
       "6     128\n",
       "7     128\n",
       "8     128\n",
       "9     128\n",
       "10    128\n",
       "11     64\n",
       "12     64\n",
       "13    128\n",
       "14     64\n",
       "15     32\n",
       "16     32\n",
       "17     32\n",
       "18     16\n",
       "19      0\n",
       "20      0\n",
       "Name: ROM_GB, dtype: int64"
      ]
     },
     "execution_count": 23,
     "metadata": {},
     "output_type": "execute_result"
    }
   ],
   "source": [
    "\n",
    "\n",
    "\n",
    "samsung_df.ROM_GB"
   ]
  },
  {
   "cell_type": "code",
   "execution_count": 24,
   "id": "6694f01b-13da-464e-a51f-f3d21fdf7c86",
   "metadata": {},
   "outputs": [
    {
     "data": {
      "image/png": "[encoded data removed]",
      "text/plain": [
       "<Figure size 1600x800 with 6 Axes>"
      ]
     },
     "metadata": {},
     "output_type": "display_data"
    }
   ],
   "source": [
    "samsung_df.hist(bins=80,figsize=(16,8))\n",
    "plt.show()"
   ]
  },
  {
   "cell_type": "markdown",
   "id": "81bb79ca-6b69-46f3-8e9c-9fa2a1cbe3ff",
   "metadata": {},
   "source": [
    "## >>PIE"
   ]
  },
  {
   "cell_type": "code",
   "execution_count": 25,
   "id": "bbab8357-ffe0-4aa3-bb9d-0f55a6cb4b47",
   "metadata": {},
   "outputs": [
    {
     "data": {
      "text/plain": [
       "0     Note 20 ultra\n",
       "1         S20 ultra\n",
       "2              S20+\n",
       "3              Lite\n",
       "4               A51\n",
       "5               A71\n",
       "6               A70\n",
       "7               A70\n",
       "8               A51\n",
       "9              M30s\n",
       "10             M30s\n",
       "11              F41\n",
       "12              M31\n",
       "13              M31\n",
       "14             A20s\n",
       "15             A20s\n",
       "16             A10s\n",
       "17             A10s\n",
       "18              A01\n",
       "19        metro 350\n",
       "20        metro 313\n",
       "Name: Model, dtype: object"
      ]
     },
     "execution_count": 25,
     "metadata": {},
     "output_type": "execute_result"
    }
   ],
   "source": [
    "samsung_df.Model"
   ]
  },
  {
   "cell_type": "code",
   "execution_count": 26,
   "id": "ad9e39ff-bea7-4907-ba85-b689c5d63aa9",
   "metadata": {},
   "outputs": [
    {
     "data": {
      "text/plain": [
       "0       good\n",
       "1       good\n",
       "2       good\n",
       "3       good\n",
       "4       good\n",
       "5       good\n",
       "6       good\n",
       "7       good\n",
       "8       good\n",
       "9       good\n",
       "10      good\n",
       "11      good\n",
       "12    normal\n",
       "13    normal\n",
       "14    normal\n",
       "15    normal\n",
       "16    normal\n",
       "17    normal\n",
       "18     usual\n",
       "19     usual\n",
       "20     usual\n",
       "Name: Review, dtype: object"
      ]
     },
     "execution_count": 26,
     "metadata": {},
     "output_type": "execute_result"
    }
   ],
   "source": [
    "samsung_df.Review"
   ]
  },
  {
   "cell_type": "code",
   "execution_count": 27,
   "id": "9355d61d-1484-4db3-b845-0e4455f38a09",
   "metadata": {},
   "outputs": [
    {
     "data": {
      "image/png": "[encoded data removed]",
      "text/plain": [
       "<Figure size 400x400 with 1 Axes>"
      ]
     },
     "metadata": {},
     "output_type": "display_data"
    }
   ],
   "source": [
    "plt.figure(figsize=(4,4))\n",
    "\n",
    "# declaring data \n",
    "data = samsung_df[\"Review\"].value_counts() \n",
    "keys = ['good','normal','usual']\n",
    "\n",
    "  \n",
    "# define Seaborn color palette to use \n",
    "palette_color = sns.color_palette('pastel') \n",
    "  \n",
    "# plotting data on chart \n",
    "plt.pie(data, labels=keys, colors=palette_color, autopct='%.0f%%') \n",
    "  \n",
    "# displaying chart \n",
    "plt.show()"
   ]
  },
  {
   "cell_type": "markdown",
   "id": "c774d36e-6d3d-4fdb-8120-318ab0b7bb61",
   "metadata": {},
   "source": [
    "## <center> <h1 style=\"color:white;\">THE END</h1></center>\n",
    "\n"
   ]
  }
 ],
 "metadata": {
  "kernelspec": {
   "display_name": "Python 3 (ipykernel)",
   "language": "python",
   "name": "python3"
  },
  "language_info": {
   "codemirror_mode": {
    "name": "ipython",
    "version": 3
   },
   "file_extension": ".py",
   "mimetype": "text/x-python",
   "name": "python",
   "nbconvert_exporter": "python",
   "pygments_lexer": "ipython3",
   "version": "3.10.14"
  }
 },
 "nbformat": 4,
 "nbformat_minor": 5
}
